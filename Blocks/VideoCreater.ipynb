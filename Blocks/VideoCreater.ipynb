{
 "cells": [
  {
   "cell_type": "code",
   "execution_count": 1,
   "metadata": {},
   "outputs": [
    {
     "name": "stderr",
     "output_type": "stream",
     "text": [
      "/usr/local/lib/python2.7/dist-packages/h5py/__init__.py:36: FutureWarning: Conversion of the second argument of issubdtype from `float` to `np.floating` is deprecated. In future, it will be treated as `np.float64 == np.dtype(float).type`.\n",
      "  from ._conv import register_converters as _register_converters\n",
      "Using TensorFlow backend.\n"
     ]
    }
   ],
   "source": [
    "import os\n",
    "import cv2\n",
    "\n",
    "import os\n",
    "import pandas as pd\n",
    "import numpy as np\n",
    "import PIL\n",
    "import matplotlib.pyplot as plt\n",
    "%matplotlib inline\n",
    "\n",
    "from scipy.misc import imsave\n",
    "from imageio import imwrite\n",
    "from numpy.random import randint\n",
    "from keras.models import load_model,save_model\n",
    "\n",
    "os.chdir('/home/rsk/Documents/Projects/YOLO/BoundingBox')"
   ]
  },
  {
   "cell_type": "code",
   "execution_count": 2,
   "metadata": {},
   "outputs": [],
   "source": [
    "img_size = 25,25,3"
   ]
  },
  {
   "cell_type": "code",
   "execution_count": 3,
   "metadata": {},
   "outputs": [],
   "source": [
    "from numpy.random import randint\n",
    "\n",
    "def createBlock(x,y,width,height):\n",
    "    \n",
    "    img = np.ones(img_size)\n",
    "    img[:,:,:]=255\n",
    "\n",
    "    \n",
    "    img[x:(x+width), y:(y+height),:]=0\n",
    "    \n",
    "    return([img,[x,y,width,height]])"
   ]
  },
  {
   "cell_type": "code",
   "execution_count": 4,
   "metadata": {},
   "outputs": [],
   "source": [
    "x,y = 12,12\n",
    "width,height = 6,6\n",
    "numImages = 1000"
   ]
  },
  {
   "cell_type": "code",
   "execution_count": 5,
   "metadata": {
    "collapsed": true
   },
   "outputs": [
    {
     "ename": "KeyboardInterrupt",
     "evalue": "",
     "output_type": "error",
     "traceback": [
      "\u001b[0;31m---------------------------------------------------------------------------\u001b[0m",
      "\u001b[0;31mKeyboardInterrupt\u001b[0m                         Traceback (most recent call last)",
      "\u001b[0;32m<ipython-input-5-48a9227b32a4>\u001b[0m in \u001b[0;36m<module>\u001b[0;34m()\u001b[0m\n\u001b[1;32m     15\u001b[0m             \u001b[0my\u001b[0m \u001b[0;34m=\u001b[0m \u001b[0my\u001b[0m\u001b[0;34m-\u001b[0m\u001b[0;36m1\u001b[0m\u001b[0;34m\u001b[0m\u001b[0m\n\u001b[1;32m     16\u001b[0m \u001b[0;34m\u001b[0m\u001b[0m\n\u001b[0;32m---> 17\u001b[0;31m     \u001b[0;32melif\u001b[0m \u001b[0mmovement\u001b[0m \u001b[0;34m==\u001b[0m\u001b[0;36m2\u001b[0m\u001b[0;34m:\u001b[0m\u001b[0;34m\u001b[0m\u001b[0m\n\u001b[0m\u001b[1;32m     18\u001b[0m \u001b[0;34m\u001b[0m\u001b[0m\n\u001b[1;32m     19\u001b[0m         \u001b[0;32mif\u001b[0m \u001b[0mx\u001b[0m\u001b[0;34m+\u001b[0m\u001b[0mwidth\u001b[0m\u001b[0;34m+\u001b[0m\u001b[0;36m1\u001b[0m\u001b[0;34m>=\u001b[0m\u001b[0mimg_size\u001b[0m\u001b[0;34m[\u001b[0m\u001b[0;36m0\u001b[0m\u001b[0;34m]\u001b[0m\u001b[0;34m:\u001b[0m\u001b[0;34m\u001b[0m\u001b[0m\n",
      "\u001b[0;31mKeyboardInterrupt\u001b[0m: "
     ]
    }
   ],
   "source": [
    "imgCount = 0\n",
    "movementCount=0\n",
    "os.chdir(\"/home/rsk/Documents/Projects/YOLO/BoundingBox/VideoImageFolder/\")\n",
    "\n",
    "while(True):\n",
    "    \n",
    "    if movementCount%3==0:\n",
    "        movement = randint(1,5)\n",
    "        \n",
    "    \n",
    "    if movement ==1 :        \n",
    "        if y-1<0:\n",
    "            continue\n",
    "        else:\n",
    "            y = y-1\n",
    "            \n",
    "    elif movement ==2:\n",
    "       \n",
    "        if x+width+1>=img_size[0]:\n",
    "            continue\n",
    "        else:\n",
    "            x = x+1\n",
    "        \n",
    "    elif movement ==3:\n",
    "        \n",
    "        if y+height+1>=img_size[1]:\n",
    "            continue\n",
    "        else:\n",
    "            y = y+1\n",
    "    else:\n",
    "        if x-1<0:\n",
    "            continue\n",
    "        else:\n",
    "            x = x-1\n",
    "            \n",
    "            \n",
    "    movementCount+=1\n",
    "    \n",
    "    img,[x,y,width,height] = createBlock(x,y,width,height)\n",
    "    img = img.astype(np.uint8)\n",
    "    \n",
    "    imwrite('img'+str(imgCount)+'.png',img)\n",
    "    \n",
    "    imgCount+=1\n",
    "    if imgCount ==numImages:\n",
    "        break\n",
    "\n",
    "    \n",
    "        \n",
    "        "
   ]
  },
  {
   "cell_type": "code",
   "execution_count": 6,
   "metadata": {},
   "outputs": [
    {
     "data": {
      "text/plain": [
       "0"
      ]
     },
     "execution_count": 6,
     "metadata": {},
     "output_type": "execute_result"
    }
   ],
   "source": [
    "# Saving the images into a video file\n",
    "os.chdir(\"/home/rsk/Documents/Projects/YOLO/BoundingBox/VideoImageFolder/\")\n",
    "os.system(\"ffmpeg -r 10 -i img%d.png -vcodec mpeg4 -y 50x50_1000_movie.mp4\")"
   ]
  },
  {
   "cell_type": "code",
   "execution_count": null,
   "metadata": {},
   "outputs": [],
   "source": []
  },
  {
   "cell_type": "code",
   "execution_count": null,
   "metadata": {},
   "outputs": [],
   "source": []
  },
  {
   "cell_type": "markdown",
   "metadata": {},
   "source": [
    "### Testing Model on Video File"
   ]
  },
  {
   "cell_type": "code",
   "execution_count": 7,
   "metadata": {},
   "outputs": [],
   "source": [
    "def testFrame(frame,model):\n",
    "    \n",
    "    \n",
    "    img = np.reshape(frame,(1,25,25,3))\n",
    "    img = np.array(img)\n",
    "    img = img/255.0\n",
    "    \n",
    "    pred = model.predict(img)\n",
    "    checkLimit = lambda x : min(max(0.0,x),25.0)\n",
    "    \n",
    "    pred = [checkLimit(pred[0][0]) , checkLimit(pred[0][1]), checkLimit(pred[0][2]), checkLimit(pred[0][3])]\n",
    "    return(pred)\n",
    "    "
   ]
  },
  {
   "cell_type": "code",
   "execution_count": 8,
   "metadata": {},
   "outputs": [],
   "source": [
    "model = load_model('/home/rsk/Documents/Projects/YOLO2/Blocks/Models/model_3_143_0.03.hdf5')"
   ]
  },
  {
   "cell_type": "code",
   "execution_count": 9,
   "metadata": {},
   "outputs": [],
   "source": [
    "cap = cv2.VideoCapture('/home/rsk/Documents/Projects/YOLO2/Blocks/25x25_1000_movie.mp4')\n",
    "frameCount =0\n",
    "\n",
    "while(True):\n",
    "    # Capture frame-by-frame\n",
    "    ret, frame = cap.read()\n",
    "    if ret==True:\n",
    "\n",
    "        # Our operations on the frame come here\n",
    "#         gray = cv2.cvtColor(frame, cv2.COLOR_BGR2GRAY)\n",
    "        \n",
    "        frame = cv2.resize(frame,(25,25))\n",
    "        pred = testFrame(frame,model)\n",
    "        \n",
    "        #To be used for testing purposes only\n",
    "#         if frameCount == 10:\n",
    "#             break    \n",
    "#         frameCount+=1\n",
    "        \n",
    "        #Plotting the predicted boundary box\n",
    "        cv2.rectangle(frame,(int(pred[1]),int(pred[0])) , (int(pred[1]+pred[3]),int(pred[0]+pred[2])),(0,255,0))\n",
    "        \n",
    "\n",
    "#         frame = cv2.resize(frame,(100,100))\n",
    "        \n",
    "        # Display the resulting frame\n",
    "        cv2.imshow('frame',frame)\n",
    "        if cv2.waitKey(10) & 0xFF == ord('q'):\n",
    "            break\n",
    "    else:\n",
    "        break\n",
    "\n",
    "# When everything done, release the capture\n",
    "cap.release()\n",
    "cv2.destroyAllWindows()"
   ]
  },
  {
   "cell_type": "code",
   "execution_count": 34,
   "metadata": {},
   "outputs": [],
   "source": []
  },
  {
   "cell_type": "code",
   "execution_count": null,
   "metadata": {},
   "outputs": [],
   "source": []
  }
 ],
 "metadata": {
  "kernelspec": {
   "display_name": "Python 2",
   "language": "python",
   "name": "python2"
  },
  "language_info": {
   "codemirror_mode": {
    "name": "ipython",
    "version": 2
   },
   "file_extension": ".py",
   "mimetype": "text/x-python",
   "name": "python",
   "nbconvert_exporter": "python",
   "pygments_lexer": "ipython2",
   "version": "2.7.12"
  }
 },
 "nbformat": 4,
 "nbformat_minor": 2
}
