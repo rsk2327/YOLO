{
 "cells": [
  {
   "cell_type": "code",
   "execution_count": 1,
   "metadata": {},
   "outputs": [
    {
     "name": "stderr",
     "output_type": "stream",
     "text": [
      "/usr/local/lib/python2.7/dist-packages/h5py/__init__.py:36: FutureWarning: Conversion of the second argument of issubdtype from `float` to `np.floating` is deprecated. In future, it will be treated as `np.float64 == np.dtype(float).type`.\n",
      "  from ._conv import register_converters as _register_converters\n",
      "Using TensorFlow backend.\n"
     ]
    }
   ],
   "source": [
    "import os\n",
    "import cv2\n",
    "\n",
    "import os\n",
    "import pandas as pd\n",
    "import numpy as np\n",
    "import PIL\n",
    "import matplotlib.pyplot as plt\n",
    "%matplotlib inline\n",
    "\n",
    "from scipy.misc import imsave\n",
    "from imageio import imwrite\n",
    "from numpy.random import randint\n",
    "from keras.models import load_model,save_model\n",
    "import time\n",
    "from numpy.random import randint\n",
    "\n",
    "os.chdir('/home/rsk/Documents/Projects/YOLO/MultiClass')"
   ]
  },
  {
   "cell_type": "code",
   "execution_count": 4,
   "metadata": {},
   "outputs": [],
   "source": [
    "img_size = 25,25,3\n",
    "\n",
    "boxLimits = [[0,0,12,25],\n",
    "             [12,0,25,25]]"
   ]
  },
  {
   "cell_type": "code",
   "execution_count": null,
   "metadata": {},
   "outputs": [],
   "source": [
    "x,y = 12,12\n",
    "width,height = 6,6\n",
    "numImages = 1000"
   ]
  },
  {
   "cell_type": "code",
   "execution_count": 8,
   "metadata": {
    "collapsed": true
   },
   "outputs": [
    {
     "data": {
      "text/plain": [
       "array([[[1., 1., 1.],\n",
       "        [1., 1., 1.],\n",
       "        [1., 1., 1.],\n",
       "        ...,\n",
       "        [1., 1., 1.],\n",
       "        [1., 1., 1.],\n",
       "        [1., 1., 1.]],\n",
       "\n",
       "       [[1., 1., 1.],\n",
       "        [1., 1., 1.],\n",
       "        [1., 1., 1.],\n",
       "        ...,\n",
       "        [1., 1., 1.],\n",
       "        [1., 1., 1.],\n",
       "        [1., 1., 1.]],\n",
       "\n",
       "       [[1., 1., 1.],\n",
       "        [1., 1., 1.],\n",
       "        [1., 1., 1.],\n",
       "        ...,\n",
       "        [1., 1., 1.],\n",
       "        [1., 1., 1.],\n",
       "        [1., 1., 1.]],\n",
       "\n",
       "       ...,\n",
       "\n",
       "       [[1., 1., 1.],\n",
       "        [1., 1., 1.],\n",
       "        [1., 1., 1.],\n",
       "        ...,\n",
       "        [1., 1., 1.],\n",
       "        [1., 1., 1.],\n",
       "        [1., 1., 1.]],\n",
       "\n",
       "       [[1., 1., 1.],\n",
       "        [1., 1., 1.],\n",
       "        [1., 1., 1.],\n",
       "        ...,\n",
       "        [1., 1., 1.],\n",
       "        [1., 1., 1.],\n",
       "        [1., 1., 1.]],\n",
       "\n",
       "       [[1., 1., 1.],\n",
       "        [1., 1., 1.],\n",
       "        [1., 1., 1.],\n",
       "        ...,\n",
       "        [1., 1., 1.],\n",
       "        [1., 1., 1.],\n",
       "        [1., 1., 1.]]])"
      ]
     },
     "execution_count": 8,
     "metadata": {},
     "output_type": "execute_result"
    }
   ],
   "source": [
    "img = np.ones(img_size)\n",
    "img[:,:,:]=1\n",
    "\n",
    "#Block\n",
    "\n",
    "x1 = 6\n",
    "y1 = 4\n",
    "width1 = 4\n",
    "height1 = 7\n",
    "\n",
    "cv2.rectangle(img, (x1,y1), (x1+width1, y1+height1),(0,0,0),-1)\n",
    "\n",
    "\n",
    "#Circle\n",
    "\n",
    "x2 = 15\n",
    "y2 = 6\n",
    "width2 = 2\n",
    "height2 = 2\n",
    "\n",
    "cv2.circle(img,(x2,y2),width2,(0,0,0),-1)"
   ]
  },
  {
   "cell_type": "markdown",
   "metadata": {},
   "source": [
    "### Helper functions"
   ]
  },
  {
   "cell_type": "code",
   "execution_count": 9,
   "metadata": {},
   "outputs": [],
   "source": [
    "def moveBlock(x,y,width,height,box_dim):\n",
    "    \"\"\"\n",
    "    Randomly moves the box around\n",
    "    \"\"\"\n",
    "    \n",
    "    global box_movement\n",
    "    \n",
    "    if movementCount%3 == 0:\n",
    "        box_movement = randint(1,5)\n",
    "        \n",
    "   \n",
    "    if box_movement ==1 :        \n",
    "        if y-1<box_dim[1]:\n",
    "            y = y\n",
    "            box_movement = np.random.choice([2,3,4])\n",
    "        else:\n",
    "            y = y-1\n",
    "    \n",
    "    elif box_movement ==2:\n",
    "               \n",
    "        if x+width+1>=box_dim[2]:\n",
    "            x = x\n",
    "            box_movement = np.random.choice([1,3,4])\n",
    "        else:\n",
    "            x = x+1\n",
    "    \n",
    "    elif box_movement ==3:\n",
    "           \n",
    "        if y+height+1>=box_dim[3]:\n",
    "            y = y\n",
    "            box_movement = np.random.choice([1,2,4])\n",
    "        else:\n",
    "            y = y+1\n",
    "    else:\n",
    "      \n",
    "        if x-1<box_dim[0]:\n",
    "            x = x\n",
    "            box_movement = np.random.choice([2,3,1])\n",
    "        else:\n",
    "            x = x-1\n",
    "                       \n",
    "    return([x,y])\n",
    "    \n",
    "    \n",
    "    "
   ]
  },
  {
   "cell_type": "code",
   "execution_count": 10,
   "metadata": {},
   "outputs": [],
   "source": [
    "def moveCircle(x,y,radius,box_dim):\n",
    "    \n",
    "    global circ_movement\n",
    "    \n",
    "    x = x- radius\n",
    "    y = y - radius\n",
    "    width = radius*2\n",
    "    height = radius*2\n",
    "    \n",
    "    \n",
    "    \n",
    "    if movementCount%3 == 0:\n",
    "        circ_movement = randint(1,5)\n",
    "        \n",
    "   \n",
    "    if circ_movement ==1 :        \n",
    "        if y-1<box_dim[1]:\n",
    "            y = y\n",
    "            circ_movement = np.random.choice([2,3,4])\n",
    "        else:\n",
    "            y = y-1\n",
    "    \n",
    "    elif circ_movement ==2:\n",
    "               \n",
    "        if x+width+1>=box_dim[2]:\n",
    "            x = x\n",
    "            circ_movement = np.random.choice([1,3,4])\n",
    "        else:\n",
    "            x = x+1\n",
    "    \n",
    "    elif circ_movement ==3:\n",
    "           \n",
    "        if y+height+1>=box_dim[3]:\n",
    "            y = y\n",
    "            circ_movement = np.random.choice([2,1,4])\n",
    "        else:\n",
    "            y = y+1\n",
    "    else:\n",
    "      \n",
    "        if x-1<box_dim[0]:\n",
    "            x = x\n",
    "            circ_movement = np.random.choice([2,3,1])\n",
    "        else:\n",
    "            x = x-1\n",
    "    \n",
    "    x = x + radius\n",
    "    y = y + radius\n",
    "    \n",
    "    \n",
    "    return([x,y])"
   ]
  },
  {
   "cell_type": "markdown",
   "metadata": {},
   "source": [
    "### Data Creation"
   ]
  },
  {
   "cell_type": "code",
   "execution_count": 11,
   "metadata": {},
   "outputs": [],
   "source": [
    "movementCount = 0\n",
    "box_movement= 1\n",
    "circ_movement = 2\n",
    "\n",
    "numImages = 2000"
   ]
  },
  {
   "cell_type": "code",
   "execution_count": 12,
   "metadata": {},
   "outputs": [],
   "source": [
    "os.chdir(\"/home/rsk/Documents/Projects/YOLO/MultiClass/VideoImageFolder/\")\n",
    "\n",
    "for i in range(numImages):\n",
    "    \n",
    "    x1,y1 = moveBlock(x1,y1,width1,height1,[0,0,12,25])\n",
    "    \n",
    "    x2,y2 = moveCircle(x2,y2,width2,[12,0,25,25])\n",
    "    \n",
    "    \n",
    "    img = np.ones(img_size)\n",
    "    img[:,:,:]=255\n",
    "    \n",
    "    cv2.rectangle(img, (x1,y1), (x1+width1, y1+height1),(0,0,0),-1)\n",
    "    \n",
    "    cv2.circle(img,(x2,y2),width2,(0,0,0),-1)\n",
    "    \n",
    "#     print(\"movementCount : {}\".format(movementCount))\n",
    "#     print(\"box_movement : {}\".format(box_movement))\n",
    "#     print(\"circ_movement : {}\".format(circ_movement))\n",
    "#     print(\"----------------\")\n",
    "    \n",
    "#     plt.imshow(img)\n",
    "    \n",
    "#     time.sleep(10)\n",
    "    \n",
    "    movementCount += 1\n",
    "    \n",
    "    img = img.astype(np.uint8)\n",
    "    imwrite('img'+str(i)+'.png',img)\n",
    "    \n",
    "    "
   ]
  },
  {
   "cell_type": "code",
   "execution_count": 62,
   "metadata": {},
   "outputs": [
    {
     "data": {
      "text/plain": [
       "0"
      ]
     },
     "execution_count": 62,
     "metadata": {},
     "output_type": "execute_result"
    }
   ],
   "source": [
    "# Saving the images into a video file\n",
    "os.chdir(\"/home/rsk/Documents/Projects/YOLO/MultiClass/VideoImageFolder/\")\n",
    "os.system(\"ffmpeg -r 10 -i img%d.png -vcodec mpeg4 -y 25x25_1000_movie.mp4\")"
   ]
  },
  {
   "cell_type": "code",
   "execution_count": 27,
   "metadata": {},
   "outputs": [],
   "source": []
  },
  {
   "cell_type": "code",
   "execution_count": 13,
   "metadata": {},
   "outputs": [
    {
     "data": {
      "text/plain": [
       "0"
      ]
     },
     "execution_count": 13,
     "metadata": {},
     "output_type": "execute_result"
    }
   ],
   "source": [
    "os.chdir(\"/home/rsk/Documents/Projects/YOLO/MultiClass/VideoImageFolderPreds/\")\n",
    "os.system(\"ffmpeg -r 10 -i pred%d.png -vcodec mpeg4 -y 25x25_1000_movie_pred2.mp4\")"
   ]
  },
  {
   "cell_type": "code",
   "execution_count": null,
   "metadata": {},
   "outputs": [],
   "source": []
  }
 ],
 "metadata": {
  "kernelspec": {
   "display_name": "Python 2",
   "language": "python",
   "name": "python2"
  },
  "language_info": {
   "codemirror_mode": {
    "name": "ipython",
    "version": 2
   },
   "file_extension": ".py",
   "mimetype": "text/x-python",
   "name": "python",
   "nbconvert_exporter": "python",
   "pygments_lexer": "ipython2",
   "version": "2.7.12"
  }
 },
 "nbformat": 4,
 "nbformat_minor": 2
}
